{
 "cells": [
  {
   "cell_type": "code",
   "execution_count": 1,
   "metadata": {
    "collapsed": true,
    "deletable": true,
    "editable": true
   },
   "outputs": [],
   "source": [
    "import pickle"
   ]
  },
  {
   "cell_type": "code",
   "execution_count": 26,
   "metadata": {
    "collapsed": true
   },
   "outputs": [],
   "source": [
    "import numpy as np"
   ]
  },
  {
   "cell_type": "code",
   "execution_count": 2,
   "metadata": {
    "collapsed": true,
    "deletable": true,
    "editable": true
   },
   "outputs": [],
   "source": [
    "class Question_pair:\n",
    "    def __init__(self, id, qid1, qid2, question1, question2, is_duplicate):\n",
    "        self.id = id\n",
    "        self.gid1 = qid1\n",
    "        self.qid2 = qid2\n",
    "        self.question1 = question1\n",
    "        self.question2 = question2\n",
    "        self.is_duplicate = False if is_duplicate is \"0\" else True\n",
    "        \n",
    "    def show(self):\n",
    "        print (\"id:\", self.id,\"gid1:\", self.gid1,\"qid2:\", self.qid2,\"question1:\", self.question1,\"question2:\", self.question2,\"is_duplicate:\", self.is_duplicate,)\n",
    "      \n",
    "    def __str__(self):\n",
    "        return (\"id:\", self.id,\"gid1:\", self.gid1,\"qid2:\", self.qid2,\"question1:\", self.question1,\"question2:\", self.question2,\"is_duplicate:\", self.is_duplicate,)\n",
    "   "
   ]
  },
  {
   "cell_type": "code",
   "execution_count": 3,
   "metadata": {
    "collapsed": false,
    "deletable": true,
    "editable": true,
    "scrolled": true
   },
   "outputs": [],
   "source": [
    "question = pickle.load(open( \"./data/preprocessed.plk\", \"rb\" ))"
   ]
  },
  {
   "cell_type": "code",
   "execution_count": 4,
   "metadata": {
    "collapsed": false,
    "deletable": true,
    "editable": true
   },
   "outputs": [
    {
     "data": {
      "text/plain": [
       "'What is the step by step guide to invest in share market in india?'"
      ]
     },
     "execution_count": 4,
     "metadata": {},
     "output_type": "execute_result"
    }
   ],
   "source": [
    "question[0].question1"
   ]
  },
  {
   "cell_type": "code",
   "execution_count": 5,
   "metadata": {
    "collapsed": true,
    "deletable": true,
    "editable": true
   },
   "outputs": [],
   "source": [
    "question_text1 = []\n",
    "question_text2 = []\n",
    "question_combination = []\n",
    "\n",
    "are_duplicate = []\n",
    "\n",
    "for q in question:\n",
    "    question_text1.append(q.question1)\n",
    "    question_text2.append(q.question2)\n",
    "    question_combination.append(q.question1 + \" \" + q.question2)\n",
    "    are_duplicate.append(q.is_duplicate)"
   ]
  },
  {
   "cell_type": "raw",
   "metadata": {
    "deletable": true,
    "editable": true
   },
   "source": [
    "http://scikit-learn.org/stable/modules/generated/sklearn.feature_extraction.text.TfidfVectorizer.html"
   ]
  },
  {
   "cell_type": "code",
   "execution_count": 6,
   "metadata": {
    "collapsed": false,
    "deletable": true,
    "editable": true
   },
   "outputs": [],
   "source": [
    "from sklearn.feature_extraction.text import TfidfVectorizer\n",
    "\n",
    "words_train_tfidf = TfidfVectorizer(use_idf=True).fit(question_combination)"
   ]
  },
  {
   "cell_type": "code",
   "execution_count": 7,
   "metadata": {
    "collapsed": true,
    "deletable": true,
    "editable": true
   },
   "outputs": [],
   "source": [
    "from sklearn.metrics.pairwise import cosine_similarity"
   ]
  },
  {
   "cell_type": "code",
   "execution_count": 8,
   "metadata": {
    "collapsed": false,
    "deletable": true,
    "editable": true
   },
   "outputs": [],
   "source": [
    "words_train_tfidf1 = words_train_tfidf.transform(question_text1)\n",
    "words_train_tfidf2 = words_train_tfidf.transform(question_text2)"
   ]
  },
  {
   "cell_type": "code",
   "execution_count": 23,
   "metadata": {
    "collapsed": false,
    "deletable": true,
    "editable": true,
    "scrolled": true
   },
   "outputs": [
    {
     "data": {
      "text/plain": [
       "(404279, 86139)"
      ]
     },
     "execution_count": 23,
     "metadata": {},
     "output_type": "execute_result"
    }
   ],
   "source": [
    "words_train_tfidf1.get_shape()"
   ]
  },
  {
   "cell_type": "code",
   "execution_count": 18,
   "metadata": {
    "collapsed": false,
    "deletable": true,
    "editable": true
   },
   "outputs": [
    {
     "data": {
      "text/plain": [
       "<404279x86139 sparse matrix of type '<class 'numpy.float64'>'\n",
       "\twith 4084436 stored elements in Compressed Sparse Row format>"
      ]
     },
     "execution_count": 18,
     "metadata": {},
     "output_type": "execute_result"
    }
   ],
   "source": [
    "words_train_tfidf2"
   ]
  },
  {
   "cell_type": "code",
   "execution_count": 15,
   "metadata": {
    "collapsed": false,
    "deletable": true,
    "editable": true
   },
   "outputs": [
    {
     "data": {
      "text/plain": [
       "0.97924429407290137"
      ]
     },
     "execution_count": 15,
     "metadata": {},
     "output_type": "execute_result"
    }
   ],
   "source": [
    "cosine_similarity(words_train_tfidf1[0], words_train_tfidf2[0])[0][0]"
   ]
  },
  {
   "cell_type": "code",
   "execution_count": 24,
   "metadata": {
    "collapsed": false,
    "deletable": true,
    "editable": true
   },
   "outputs": [],
   "source": [
    "cosine_similarities = []\n",
    "for x in range(0,words_train_tfidf1.get_shape()[0]):\n",
    "    cosine_similarities.append(cosine_similarity(words_train_tfidf1[x], words_train_tfidf2[x])[0][0])"
   ]
  },
  {
   "cell_type": "code",
   "execution_count": 27,
   "metadata": {
    "collapsed": false
   },
   "outputs": [
    {
     "data": {
      "text/plain": [
       "0.49543796415050906"
      ]
     },
     "execution_count": 27,
     "metadata": {},
     "output_type": "execute_result"
    }
   ],
   "source": [
    "np.mean(cosine_similarities)"
   ]
  },
  {
   "cell_type": "code",
   "execution_count": 30,
   "metadata": {
    "collapsed": false
   },
   "outputs": [],
   "source": [
    "file_path = \"./results/tf_idf_cosine_unpreprocessed.csv\"\n",
    "\n",
    "import csv\n",
    "with open(file_path, 'a') as outcsv:   \n",
    "    #configure writer to write standard csv file\n",
    "    writer = csv.writer(outcsv, delimiter=',', quotechar='|', quoting=csv.QUOTE_MINIMAL, lineterminator='\\n')\n",
    "    writer.writerow(['number'])\n",
    "    for item in cosine_similarities:\n",
    "        #Write item to outcsv\n",
    "        writer.writerow([item])"
   ]
  },
  {
   "cell_type": "code",
   "execution_count": 34,
   "metadata": {
    "collapsed": false
   },
   "outputs": [
    {
     "name": "stdout",
     "output_type": "stream",
     "text": [
      "0.573543265903\n"
     ]
    }
   ],
   "source": [
    "from sklearn.metrics import average_precision_score\n",
    "print (average_precision_score(are_duplicate, cosine_similarities))"
   ]
  },
  {
   "cell_type": "code",
   "execution_count": 35,
   "metadata": {
    "collapsed": true
   },
   "outputs": [
    {
     "name": "stdout",
     "output_type": "stream",
     "text": [
      "0.1\n",
      "0.15000000000000002\n",
      "0.2\n",
      "0.25\n",
      "0.3\n",
      "0.35\n",
      "0.39999999999999997\n",
      "0.44999999999999996\n",
      "0.49999999999999994\n",
      "0.5499999999999999\n",
      "0.6\n",
      "0.65\n",
      "0.7000000000000001\n",
      "0.7500000000000001\n",
      "0.8000000000000002\n",
      "0.8500000000000002\n",
      "0.9000000000000002\n"
     ]
    }
   ],
   "source": [
    "from sklearn.metrics import f1_score\n",
    "from sklearn.metrics import precision_score\n",
    "from sklearn.metrics import recall_score\n",
    "from sklearn.metrics import accuracy_score\n",
    "\n",
    "treshold = 0.1\n",
    "step = 0.05\n",
    "\n",
    "f1_scores = []\n",
    "precision_scores = []\n",
    "recall_scores = []\n",
    "accuracy_scores = []\n",
    "\n",
    "tresholds = []\n",
    "\n",
    "while treshold <= 0.91:\n",
    "    print (treshold)\n",
    "    \n",
    "    f1_scores.append(f1_score(are_duplicate, [True if x > treshold else False for x in cosine_similarities]))\n",
    "    precision_scores.append(precision_score(are_duplicate, [True if x > treshold else False for x in cosine_similarities]))\n",
    "    recall_scores.append(recall_score(are_duplicate, [True if x > treshold else False for x in cosine_similarities]))\n",
    "    accuracy_scores.append(accuracy_score(are_duplicate, [True if x > treshold else False for x in cosine_similarities]))    \n",
    "\n",
    "    tresholds.append(treshold)\n",
    "    treshold = treshold + step"
   ]
  },
  {
   "cell_type": "code",
   "execution_count": 56,
   "metadata": {
    "collapsed": false
   },
   "outputs": [
    {
     "data": {
      "text/plain": [
       "[0.58701277251706674,\n",
       " 0.59638465017068276,\n",
       " 0.60866281980776649,\n",
       " 0.62129159676357537,\n",
       " 0.63137567897128921,\n",
       " 0.63698644525934212,\n",
       " 0.63669903441850795,\n",
       " 0.62928544983339507,\n",
       " 0.61307093935682866,\n",
       " 0.58883750442326699,\n",
       " 0.55496982500477143,\n",
       " 0.5135894499491418,\n",
       " 0.4652812584338975,\n",
       " 0.41223520695113325,\n",
       " 0.35524095603641692,\n",
       " 0.28981100178844776,\n",
       " 0.21451269078816476]"
      ]
     },
     "execution_count": 56,
     "metadata": {},
     "output_type": "execute_result"
    }
   ],
   "source": [
    "f1_scores"
   ]
  },
  {
   "cell_type": "code",
   "execution_count": 73,
   "metadata": {
    "collapsed": false
   },
   "outputs": [
    {
     "data": {
      "image/png": "[encoded data removed]",
      "text/plain": [
       "<matplotlib.figure.Figure at 0x135accb38>"
      ]
     },
     "metadata": {},
     "output_type": "display_data"
    }
   ],
   "source": [
    "import matplotlib.pyplot as plt\n",
    "plt.plot(tresholds, f1_scores, 'ro', label='F1 score')\n",
    "plt.plot(tresholds, precision_scores, 'bo',label='Precision')\n",
    "plt.plot(tresholds, recall_scores, 'go',label='Recall')\n",
    "plt.plot(tresholds, accuracy_scores, 'ko',label='Accuracy')\n",
    "#plt.plot(t, t, 'r--', t, t**2, 'bs', t, t**3, 'g^')\n",
    "plt.xlabel(\"Tresholds\")\n",
    "plt.ylabel(\"Score\")\n",
    "plt.legend(loc=3)\n",
    "plt.axis([0,1,0,1])\n",
    "plt.show()"
   ]
  },
  {
   "cell_type": "code",
   "execution_count": null,
   "metadata": {
    "collapsed": true
   },
   "outputs": [],
   "source": []
  }
 ],
 "metadata": {
  "kernelspec": {
   "display_name": "Python 3",
   "language": "python",
   "name": "python3"
  },
  "language_info": {
   "codemirror_mode": {
    "name": "ipython",
    "version": 3
   },
   "file_extension": ".py",
   "mimetype": "text/x-python",
   "name": "python",
   "nbconvert_exporter": "python",
   "pygments_lexer": "ipython3",
   "version": "3.5.2"
  }
 },
 "nbformat": 4,
 "nbformat_minor": 2
}
