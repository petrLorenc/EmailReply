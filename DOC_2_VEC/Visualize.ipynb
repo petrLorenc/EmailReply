{
 "cells": [
  {
   "cell_type": "code",
   "execution_count": 2,
   "metadata": {
    "collapsed": true
   },
   "outputs": [],
   "source": [
    "def plotWords(model):\n",
    "    words_np = []\n",
    "    #a list of labels (words)\n",
    "    words_label = []\n",
    "    for word in model.vocab.keys():\n",
    "        words_np.append(model[word])\n",
    "        words_label.append(word)\n",
    "    print('Added %s words. Shape %s'%(len(words_np),np.shape(words_np)))\n",
    " \n",
    "    pca = decomposition.PCA(n_components=2)\n",
    "    pca.fit(words_np)\n",
    "    reduced= pca.transform(words_np)\n",
    " \n",
    "    # plt.plot(pca.explained_variance_ratio_)\n",
    "    for index,vec in enumerate(reduced):\n",
    "        # print ('%s %s'%(words_label[index],vec))\n",
    "        if index <100:\n",
    "            x,y=vec[0],vec[1]\n",
    "            plt.scatter(x,y)\n",
    "            plt.annotate(words_label[index],xy=(x,y))\n",
    "    plt.show()"
   ]
  },
  {
   "cell_type": "code",
   "execution_count": 6,
   "metadata": {
    "collapsed": false
   },
   "outputs": [],
   "source": [
    "import gensim\n",
    "model = gensim.models.doc2vec.Doc2Vec.load('./doc2vec.model')"
   ]
  },
  {
   "cell_type": "code",
   "execution_count": 10,
   "metadata": {
    "collapsed": false
   },
   "outputs": [],
   "source": [
    "#plotWords(model)\n",
    "a = model.initialize_word_vectors()"
   ]
  },
  {
   "cell_type": "code",
   "execution_count": 11,
   "metadata": {
    "collapsed": true
   },
   "outputs": [],
   "source": [
    "a"
   ]
  },
  {
   "cell_type": "code",
   "execution_count": null,
   "metadata": {
    "collapsed": true
   },
   "outputs": [],
   "source": []
  }
 ],
 "metadata": {
  "kernelspec": {
   "display_name": "Python 3",
   "language": "python",
   "name": "python3"
  },
  "language_info": {
   "codemirror_mode": {
    "name": "ipython",
    "version": 3
   },
   "file_extension": ".py",
   "mimetype": "text/x-python",
   "name": "python",
   "nbconvert_exporter": "python",
   "pygments_lexer": "ipython3",
   "version": "3.5.2"
  }
 },
 "nbformat": 4,
 "nbformat_minor": 2
}
