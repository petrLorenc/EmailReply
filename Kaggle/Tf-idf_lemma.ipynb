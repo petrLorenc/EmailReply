{
 "cells": [
  {
   "cell_type": "raw",
   "metadata": {},
   "source": []
  },
  {
   "cell_type": "code",
   "execution_count": 32,
   "metadata": {
    "collapsed": true,
    "deletable": true,
    "editable": true
   },
   "outputs": [],
   "source": [
    "import pickle\n",
    "import json"
   ]
  },
  {
   "cell_type": "code",
   "execution_count": 2,
   "metadata": {
    "collapsed": true,
    "deletable": true,
    "editable": true
   },
   "outputs": [],
   "source": [
    "import numpy as np"
   ]
  },
  {
   "cell_type": "code",
   "execution_count": 3,
   "metadata": {
    "collapsed": true,
    "deletable": true,
    "editable": true
   },
   "outputs": [],
   "source": [
    "class Question_pair:\n",
    "    def __init__(self, id, qid1, qid2, question1, question2, is_duplicate):\n",
    "        self.id = id\n",
    "        self.gid1 = qid1\n",
    "        self.qid2 = qid2\n",
    "        self.question1 = question1\n",
    "        self.question2 = question2\n",
    "        self.is_duplicate = False if is_duplicate is \"0\" else True\n",
    "        \n",
    "    def show(self):\n",
    "        print (\"id:\", self.id,\"gid1:\", self.gid1,\"qid2:\", self.qid2,\"question1:\", self.question1,\"question2:\", self.question2,\"is_duplicate:\", self.is_duplicate,)\n",
    "      \n",
    "    def __str__(self):\n",
    "        return (\"id:\", self.id,\"gid1:\", self.gid1,\"qid2:\", self.qid2,\"question1:\", self.question1,\"question2:\", self.question2,\"is_duplicate:\", self.is_duplicate,)\n",
    "   "
   ]
  },
  {
   "cell_type": "code",
   "execution_count": 4,
   "metadata": {
    "collapsed": false,
    "deletable": true,
    "editable": true,
    "scrolled": true
   },
   "outputs": [],
   "source": [
    "question = pickle.load(open( \"./data/preprocessed.plk\", \"rb\" ))"
   ]
  },
  {
   "cell_type": "code",
   "execution_count": 5,
   "metadata": {
    "collapsed": false,
    "deletable": true,
    "editable": true
   },
   "outputs": [
    {
     "data": {
      "text/plain": [
       "'What is the step by step guide to invest in share market in india?'"
      ]
     },
     "execution_count": 5,
     "metadata": {},
     "output_type": "execute_result"
    }
   ],
   "source": [
    "question[0].question1"
   ]
  },
  {
   "cell_type": "raw",
   "metadata": {},
   "source": [
    "java -mx4g -cp \"*\" edu.stanford.nlp.pipeline.StanfordCoreNLPServer -port 9000 -timeout 15000"
   ]
  },
  {
   "cell_type": "code",
   "execution_count": 6,
   "metadata": {
    "collapsed": true
   },
   "outputs": [],
   "source": [
    "stopwords = []\n",
    "with open(\"utils/english_stop_words_with_questions.txt\") as f:\n",
    "    stopwords = [line.strip() for line in f.readlines()]"
   ]
  },
  {
   "cell_type": "code",
   "execution_count": 26,
   "metadata": {
    "collapsed": true
   },
   "outputs": [],
   "source": [
    "from pycorenlp import StanfordCoreNLP\n",
    "\n",
    "def start_StanfordCoreNLP_get_properties(address):\n",
    "    nlp = StanfordCoreNLP(address)\n",
    "    properties={\n",
    "          'annotators': 'tokenize,ssplit,pos,lemma',\n",
    "          'outputFormat': 'json'\n",
    "          }\n",
    "    return nlp, properties\n",
    " \n",
    "def call_StanfordCoreNLP(input_line, nlp, properties):\n",
    "    if input_line is \"\":\n",
    "        return input_line\n",
    "    \n",
    "    return nlp.annotate(input_line,properties=properties)\n",
    "    \n",
    "def procces_line(input_line, stopwords, nlp, properties):\n",
    "    if input_line is \"\":\n",
    "        return input_line\n",
    "    \n",
    "    output_line = \"\"\n",
    "    tokens = nlp.annotate(input_line,properties=properties)['sentences'][0]['tokens']\n",
    "    \n",
    "    output_list = [x['lemma'].lower().strip() for x in tokens if x['lemma'].isalpha()]\n",
    "    for lemma in output_list:\n",
    "        output_line = output_line + (\" \" + lemma if lemma not in stopwords else \"\")\n",
    "    return output_line.strip()\n",
    "\n",
    "def procces_line_with_no_call(output_of_nlp, stopwords):    \n",
    "    output_line = \"\"\n",
    "    tokens = output_of_nlp['sentences'][0]['tokens']\n",
    "    \n",
    "    output_list = [x['lemma'].lower().strip() for x in tokens if x['lemma'].isalpha()]\n",
    "    for lemma in output_list:\n",
    "        output_line = output_line + (\" \" + lemma if lemma not in stopwords else \"\")\n",
    "    return output_line.strip()\n"
   ]
  },
  {
   "cell_type": "code",
   "execution_count": 27,
   "metadata": {
    "collapsed": true
   },
   "outputs": [],
   "source": [
    "nlp, properties = start_StanfordCoreNLP_get_properties('http://localhost:9000')"
   ]
  },
  {
   "cell_type": "code",
   "execution_count": 28,
   "metadata": {
    "collapsed": false,
    "scrolled": false
   },
   "outputs": [
    {
     "data": {
      "text/plain": [
       "'step step guide invest share market india'"
      ]
     },
     "execution_count": 28,
     "metadata": {},
     "output_type": "execute_result"
    }
   ],
   "source": [
    "procces_line(input_line=question[0].question1, stopwords=stopwords, nlp=nlp ,properties=properties)"
   ]
  },
  {
   "cell_type": "code",
   "execution_count": 37,
   "metadata": {
    "collapsed": false
   },
   "outputs": [
    {
     "data": {
      "text/plain": [
       "404279"
      ]
     },
     "execution_count": 37,
     "metadata": {},
     "output_type": "execute_result"
    }
   ],
   "source": [
    "len(question)"
   ]
  },
  {
   "cell_type": "code",
   "execution_count": 40,
   "metadata": {
    "collapsed": false,
    "deletable": true,
    "editable": true,
    "scrolled": true
   },
   "outputs": [],
   "source": [
    "question_text1 = []\n",
    "question_text2 = []\n",
    "question_combination = []\n",
    "\n",
    "are_duplicate = []\n",
    "\n",
    "procesed_questions = []\n",
    "\n",
    "for q in question:\n",
    "    q1 = call_StanfordCoreNLP(input_line=q.question1, nlp=nlp ,properties=properties)\n",
    "    q2 = call_StanfordCoreNLP(input_line=q.question2, nlp=nlp ,properties=properties)\n",
    "    \n",
    "#     collection = {\"q1\" : q1,\n",
    "#                   \"q2\" : q2,\n",
    "#                   \"duplicate\" : q.is_duplicate}\n",
    "    \n",
    "#     procesed_questions.append(collection)\n",
    "    \n",
    "    try:\n",
    "        q1_lemma = procces_line_with_no_call(q1, stopwords= stopwords)\n",
    "        q2_lemma = procces_line_with_no_call(q2, stopwords= stopwords)\n",
    "    except:\n",
    "        q1_lemma = q.question1\n",
    "        q2_lemma = q.question2\n",
    "    \n",
    "    question_text1.append(q1_lemma)\n",
    "    question_text2.append(q2_lemma)\n",
    "    question_combination.append(q1_lemma + \" \" + q2_lemma)\n",
    "    are_duplicate.append(q.is_duplicate)\n",
    "    \n",
    "#     if (len(procesed_questions) % 5000) == 0:\n",
    "#         print (\"=\" , end='')\n",
    "#         with open('./data/procesed_questions.json', 'w') as outfile:\n",
    "#             json.dump(procesed_questions, outfile)\n",
    "            "
   ]
  },
  {
   "cell_type": "code",
   "execution_count": 41,
   "metadata": {
    "collapsed": true
   },
   "outputs": [],
   "source": [
    "pickle.dump(question_text1, open( \"./data/preprocessed_after_lemma1.plk\", \"wb\" ))\n",
    "pickle.dump(question_text2, open( \"./data/preprocessed_after_lemma2.plk\", \"wb\" ))"
   ]
  },
  {
   "cell_type": "raw",
   "metadata": {
    "deletable": true,
    "editable": true
   },
   "source": [
    "http://scikit-learn.org/stable/modules/generated/sklearn.feature_extraction.text.TfidfVectorizer.html"
   ]
  },
  {
   "cell_type": "code",
   "execution_count": 42,
   "metadata": {
    "collapsed": false
   },
   "outputs": [
    {
     "data": {
      "text/plain": [
       "'astrology capricorn sun cap moon cap rise say'"
      ]
     },
     "execution_count": 42,
     "metadata": {},
     "output_type": "execute_result"
    }
   ],
   "source": [
    "question_text1[5]"
   ]
  },
  {
   "cell_type": "code",
   "execution_count": 43,
   "metadata": {
    "collapsed": false,
    "deletable": true,
    "editable": true
   },
   "outputs": [],
   "source": [
    "from sklearn.feature_extraction.text import TfidfVectorizer\n",
    "\n",
    "words_train_tfidf = TfidfVectorizer(use_idf=True).fit(question_combination)"
   ]
  },
  {
   "cell_type": "code",
   "execution_count": 44,
   "metadata": {
    "collapsed": true,
    "deletable": true,
    "editable": true
   },
   "outputs": [],
   "source": [
    "from sklearn.metrics.pairwise import cosine_similarity"
   ]
  },
  {
   "cell_type": "code",
   "execution_count": 45,
   "metadata": {
    "collapsed": false,
    "deletable": true,
    "editable": true
   },
   "outputs": [],
   "source": [
    "words_train_tfidf1 = words_train_tfidf.transform(question_text1)\n",
    "words_train_tfidf2 = words_train_tfidf.transform(question_text2)"
   ]
  },
  {
   "cell_type": "code",
   "execution_count": 46,
   "metadata": {
    "collapsed": false,
    "deletable": true,
    "editable": true,
    "scrolled": true
   },
   "outputs": [
    {
     "data": {
      "text/plain": [
       "(404279, 65712)"
      ]
     },
     "execution_count": 46,
     "metadata": {},
     "output_type": "execute_result"
    }
   ],
   "source": [
    "words_train_tfidf1.get_shape()"
   ]
  },
  {
   "cell_type": "code",
   "execution_count": 47,
   "metadata": {
    "collapsed": false,
    "deletable": true,
    "editable": true
   },
   "outputs": [
    {
     "data": {
      "text/plain": [
       "<404279x65712 sparse matrix of type '<class 'numpy.float64'>'\n",
       "\twith 1981949 stored elements in Compressed Sparse Row format>"
      ]
     },
     "execution_count": 47,
     "metadata": {},
     "output_type": "execute_result"
    }
   ],
   "source": [
    "words_train_tfidf2"
   ]
  },
  {
   "cell_type": "code",
   "execution_count": 48,
   "metadata": {
    "collapsed": false,
    "deletable": true,
    "editable": true
   },
   "outputs": [
    {
     "data": {
      "text/plain": [
       "0.97995574719511569"
      ]
     },
     "execution_count": 48,
     "metadata": {},
     "output_type": "execute_result"
    }
   ],
   "source": [
    "cosine_similarity(words_train_tfidf1[0], words_train_tfidf2[0])[0][0]"
   ]
  },
  {
   "cell_type": "code",
   "execution_count": 49,
   "metadata": {
    "collapsed": false,
    "deletable": true,
    "editable": true
   },
   "outputs": [],
   "source": [
    "cosine_similarities = []\n",
    "for x in range(0,words_train_tfidf1.get_shape()[0]):\n",
    "    cosine_similarities.append(cosine_similarity(words_train_tfidf1[x], words_train_tfidf2[x])[0][0])"
   ]
  },
  {
   "cell_type": "code",
   "execution_count": 50,
   "metadata": {
    "collapsed": false,
    "deletable": true,
    "editable": true
   },
   "outputs": [
    {
     "data": {
      "text/plain": [
       "0.54871308692436804"
      ]
     },
     "execution_count": 50,
     "metadata": {},
     "output_type": "execute_result"
    }
   ],
   "source": [
    "np.mean(cosine_similarities)"
   ]
  },
  {
   "cell_type": "code",
   "execution_count": 51,
   "metadata": {
    "collapsed": false,
    "deletable": true,
    "editable": true
   },
   "outputs": [],
   "source": [
    "file_path = \"./results/tf_idf_cosine_lemma.csv\"\n",
    "\n",
    "import csv\n",
    "with open(file_path, 'a') as outcsv:   \n",
    "    #configure writer to write standard csv file\n",
    "    writer = csv.writer(outcsv, delimiter=',', quotechar='|', quoting=csv.QUOTE_MINIMAL, lineterminator='\\n')\n",
    "    writer.writerow(['number'])\n",
    "    for item in cosine_similarities:\n",
    "        #Write item to outcsv\n",
    "        writer.writerow([item])"
   ]
  },
  {
   "cell_type": "code",
   "execution_count": 52,
   "metadata": {
    "collapsed": false,
    "deletable": true,
    "editable": true
   },
   "outputs": [
    {
     "name": "stdout",
     "output_type": "stream",
     "text": [
      "0.572840809343\n"
     ]
    }
   ],
   "source": [
    "from sklearn.metrics import average_precision_score\n",
    "print (average_precision_score(are_duplicate, cosine_similarities))"
   ]
  },
  {
   "cell_type": "code",
   "execution_count": 53,
   "metadata": {
    "collapsed": false,
    "deletable": true,
    "editable": true
   },
   "outputs": [
    {
     "name": "stdout",
     "output_type": "stream",
     "text": [
      "0.1\n",
      "0.15000000000000002\n",
      "0.2\n",
      "0.25\n",
      "0.3\n",
      "0.35\n",
      "0.39999999999999997\n",
      "0.44999999999999996\n",
      "0.49999999999999994\n",
      "0.5499999999999999\n",
      "0.6\n",
      "0.65\n",
      "0.7000000000000001\n",
      "0.7500000000000001\n",
      "0.8000000000000002\n",
      "0.8500000000000002\n",
      "0.9000000000000002\n"
     ]
    }
   ],
   "source": [
    "from sklearn.metrics import f1_score\n",
    "from sklearn.metrics import precision_score\n",
    "from sklearn.metrics import recall_score\n",
    "from sklearn.metrics import accuracy_score\n",
    "\n",
    "treshold = 0.1\n",
    "step = 0.05\n",
    "\n",
    "f1_scores = []\n",
    "precision_scores = []\n",
    "recall_scores = []\n",
    "accuracy_scores = []\n",
    "\n",
    "tresholds = []\n",
    "\n",
    "while treshold <= 0.91:\n",
    "    print (treshold)\n",
    "    \n",
    "    f1_scores.append(f1_score(are_duplicate, [True if x > treshold else False for x in cosine_similarities]))\n",
    "    precision_scores.append(precision_score(are_duplicate, [True if x > treshold else False for x in cosine_similarities]))\n",
    "    recall_scores.append(recall_score(are_duplicate, [True if x > treshold else False for x in cosine_similarities]))\n",
    "    accuracy_scores.append(accuracy_score(are_duplicate, [True if x > treshold else False for x in cosine_similarities]))    \n",
    "\n",
    "    tresholds.append(treshold)\n",
    "    treshold = treshold + step"
   ]
  },
  {
   "cell_type": "code",
   "execution_count": 54,
   "metadata": {
    "collapsed": true,
    "deletable": true,
    "editable": true
   },
   "outputs": [
    {
     "data": {
      "text/plain": [
       "[0.58697088175959156,\n",
       " 0.59241481338543422,\n",
       " 0.5990749836280288,\n",
       " 0.60556451106412379,\n",
       " 0.61084858396953967,\n",
       " 0.61563774616066391,\n",
       " 0.61879731453632913,\n",
       " 0.61965020927858716,\n",
       " 0.61643726095512219,\n",
       " 0.60827906976744195,\n",
       " 0.59321801408463026,\n",
       " 0.571318764412171,\n",
       " 0.54293419887475125,\n",
       " 0.50819636156158787,\n",
       " 0.46633667738529661,\n",
       " 0.41431503903738814,\n",
       " 0.34777547916330437]"
      ]
     },
     "execution_count": 54,
     "metadata": {},
     "output_type": "execute_result"
    }
   ],
   "source": [
    "f1_scores"
   ]
  },
  {
   "cell_type": "code",
   "execution_count": 55,
   "metadata": {
    "collapsed": false,
    "deletable": true,
    "editable": true
   },
   "outputs": [
    {
     "data": {
      "image/png": "[encoded data removed]",
      "text/plain": [
       "<matplotlib.figure.Figure at 0x12e337470>"
      ]
     },
     "metadata": {},
     "output_type": "display_data"
    }
   ],
   "source": [
    "import matplotlib.pyplot as plt\n",
    "plt.plot(tresholds, f1_scores, 'ro', label='F1 score')\n",
    "plt.plot(tresholds, precision_scores, 'bo',label='Precision')\n",
    "plt.plot(tresholds, recall_scores, 'go',label='Recall')\n",
    "plt.plot(tresholds, accuracy_scores, 'ko',label='Accuracy')\n",
    "#plt.plot(t, t, 'r--', t, t**2, 'bs', t, t**3, 'g^')\n",
    "plt.xlabel(\"Tresholds\")\n",
    "plt.ylabel(\"Score\")\n",
    "plt.legend(loc=3)\n",
    "plt.axis([0,1,0,1])\n",
    "plt.show()"
   ]
  },
  {
   "cell_type": "code",
   "execution_count": null,
   "metadata": {
    "collapsed": true,
    "deletable": true,
    "editable": true
   },
   "outputs": [],
   "source": []
  }
 ],
 "metadata": {
  "kernelspec": {
   "display_name": "Python 3",
   "language": "python",
   "name": "python3"
  },
  "language_info": {
   "codemirror_mode": {
    "name": "ipython",
    "version": 3
   },
   "file_extension": ".py",
   "mimetype": "text/x-python",
   "name": "python",
   "nbconvert_exporter": "python",
   "pygments_lexer": "ipython3",
   "version": "3.5.2"
  }
 },
 "nbformat": 4,
 "nbformat_minor": 2
}
