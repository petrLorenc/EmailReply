{
 "cells": [
  {
   "cell_type": "code",
   "execution_count": 1,
   "metadata": {
    "collapsed": true,
    "deletable": true,
    "editable": true
   },
   "outputs": [],
   "source": [
    "with open(\"./data/train.csv\", mode=\"r\") as f:\n",
    "    lines = f.readlines()"
   ]
  },
  {
   "cell_type": "code",
   "execution_count": 1,
   "metadata": {
    "collapsed": true,
    "deletable": true,
    "editable": true
   },
   "outputs": [],
   "source": [
    "class Question_pair:\n",
    "    def __init__(self, id, qid1, qid2, question1, question2, is_duplicate):\n",
    "        self.id = id\n",
    "        self.gid1 = qid1\n",
    "        self.qid2 = qid2\n",
    "        self.question1 = question1\n",
    "        self.question2 = question2\n",
    "        self.is_duplicate = False if is_duplicate is \"0\" else True\n",
    "        \n",
    "    def show(self):\n",
    "        print (\"id:\", self.id,\"gid1:\", self.gid1,\"qid2:\", self.qid2,\"question1:\", self.question1,\"question2:\", self.question2,\"is_duplicate:\", self.is_duplicate,)\n",
    "        \n",
    "    def __str__(self):\n",
    "        return (\"id:\", self.id,\"gid1:\", self.gid1,\"qid2:\", self.qid2,\"question1:\", self.question1,\"question2:\", self.question2,\"is_duplicate:\", self.is_duplicate,)\n"
   ]
  },
  {
   "cell_type": "code",
   "execution_count": 37,
   "metadata": {
    "collapsed": false,
    "deletable": true,
    "editable": true
   },
   "outputs": [
    {
     "ename": "IndexError",
     "evalue": "list index out of range",
     "output_type": "error",
     "traceback": [
      "\u001b[0;31m---------------------------------------------------------------------------\u001b[0m",
      "\u001b[0;31mIndexError\u001b[0m                                Traceback (most recent call last)",
      "\u001b[0;32m<ipython-input-37-b6c3e19fae8a>\u001b[0m in \u001b[0;36m<module>\u001b[0;34m()\u001b[0m\n\u001b[1;32m      4\u001b[0m                                 \u001b[0mlines\u001b[0m\u001b[0;34m[\u001b[0m\u001b[0mth_line\u001b[0m\u001b[0;34m]\u001b[0m\u001b[0;34m.\u001b[0m\u001b[0msplit\u001b[0m\u001b[0;34m(\u001b[0m\u001b[0;34m\",\\\"\"\u001b[0m\u001b[0;34m)\u001b[0m\u001b[0;34m[\u001b[0m\u001b[0;36m2\u001b[0m\u001b[0;34m]\u001b[0m\u001b[0;34m.\u001b[0m\u001b[0mstrip\u001b[0m\u001b[0;34m(\u001b[0m\u001b[0;34m\"\\\"\"\u001b[0m\u001b[0;34m)\u001b[0m\u001b[0;34m,\u001b[0m\u001b[0;34m\u001b[0m\u001b[0m\n\u001b[1;32m      5\u001b[0m                                 \u001b[0mlines\u001b[0m\u001b[0;34m[\u001b[0m\u001b[0mth_line\u001b[0m\u001b[0;34m]\u001b[0m\u001b[0;34m.\u001b[0m\u001b[0msplit\u001b[0m\u001b[0;34m(\u001b[0m\u001b[0;34m\",\\\"\"\u001b[0m\u001b[0;34m)\u001b[0m\u001b[0;34m[\u001b[0m\u001b[0;36m3\u001b[0m\u001b[0;34m]\u001b[0m\u001b[0;34m.\u001b[0m\u001b[0mstrip\u001b[0m\u001b[0;34m(\u001b[0m\u001b[0;34m\"\\\"\"\u001b[0m\u001b[0;34m)\u001b[0m\u001b[0;34m,\u001b[0m\u001b[0;34m\u001b[0m\u001b[0m\n\u001b[0;32m----> 6\u001b[0;31m                                 \u001b[0mlines\u001b[0m\u001b[0;34m[\u001b[0m\u001b[0mth_line\u001b[0m\u001b[0;34m]\u001b[0m\u001b[0;34m.\u001b[0m\u001b[0msplit\u001b[0m\u001b[0;34m(\u001b[0m\u001b[0;34m\",\\\"\"\u001b[0m\u001b[0;34m)\u001b[0m\u001b[0;34m[\u001b[0m\u001b[0;36m4\u001b[0m\u001b[0;34m]\u001b[0m\u001b[0;34m.\u001b[0m\u001b[0mstrip\u001b[0m\u001b[0;34m(\u001b[0m\u001b[0;34m\"\\\"\"\u001b[0m\u001b[0;34m)\u001b[0m\u001b[0;34m,\u001b[0m\u001b[0;34m\u001b[0m\u001b[0m\n\u001b[0m\u001b[1;32m      7\u001b[0m                                 lines[th_line].split(\",\\\"\")[5].strip().strip(\"\\\"\")).show()\n",
      "\u001b[0;31mIndexError\u001b[0m: list index out of range"
     ]
    }
   ],
   "source": [
    "th_line = 2333\n",
    "Question_pair(lines[th_line].split(\",\\\"\")[0].strip(\"\\\"\"), \n",
    "                                lines[th_line].split(\",\\\"\")[1].strip(\"\\\"\"),\n",
    "                                lines[th_line].split(\",\\\"\")[2].strip(\"\\\"\"),\n",
    "                                lines[th_line].split(\",\\\"\")[3].strip(\"\\\"\"),\n",
    "                                lines[th_line].split(\",\\\"\")[4].strip(\"\\\"\"),\n",
    "                                lines[th_line].split(\",\\\"\")[5].strip().strip(\"\\\"\")).show()\n"
   ]
  },
  {
   "cell_type": "code",
   "execution_count": 40,
   "metadata": {
    "collapsed": false,
    "deletable": true,
    "editable": true,
    "scrolled": true
   },
   "outputs": [
    {
     "name": "stdout",
     "output_type": "stream",
     "text": [
      "2333\n",
      "2334\n",
      "12332\n",
      "12333\n",
      "65480\n",
      "65481\n",
      "174376\n",
      "174377\n",
      "196870\n",
      "196871\n",
      "198206\n",
      "198207\n",
      "227774\n",
      "227775\n",
      "264615\n",
      "264616\n",
      "282593\n",
      "282594\n",
      "283943\n",
      "283944\n",
      "364942\n",
      "364943\n"
     ]
    }
   ],
   "source": [
    "\n",
    "questions = []\n",
    "for th_line in range(1, len(lines)):\n",
    "    try:\n",
    "        questions.append(Question_pair(lines[th_line].split(\",\\\"\")[0].strip(\"\\\"\"), \n",
    "                                lines[th_line].split(\",\\\"\")[1].strip(\"\\\"\"),\n",
    "                                lines[th_line].split(\",\\\"\")[2].strip(\"\\\"\"),\n",
    "                                lines[th_line].split(\",\\\"\")[3].strip(\"\\\"\"),\n",
    "                                lines[th_line].split(\",\\\"\")[4].strip(\"\\\"\"),\n",
    "                                lines[th_line].split(\",\\\"\")[5].strip().strip(\"\\\"\")))\n",
    "    except:\n",
    "        print (th_line)\n"
   ]
  },
  {
   "cell_type": "code",
   "execution_count": 41,
   "metadata": {
    "collapsed": true,
    "deletable": true,
    "editable": true
   },
   "outputs": [],
   "source": [
    "import pickle"
   ]
  },
  {
   "cell_type": "code",
   "execution_count": 43,
   "metadata": {
    "collapsed": false,
    "deletable": true,
    "editable": true
   },
   "outputs": [],
   "source": [
    "pickle.dump(questions, open( \"./data/preprocessed.plk\", \"wb\" ))"
   ]
  },
  {
   "cell_type": "code",
   "execution_count": null,
   "metadata": {
    "collapsed": true,
    "deletable": true,
    "editable": true
   },
   "outputs": [],
   "source": []
  }
 ],
 "metadata": {
  "kernelspec": {
   "display_name": "Python 3",
   "language": "python",
   "name": "python3"
  },
  "language_info": {
   "codemirror_mode": {
    "name": "ipython",
    "version": 3
   },
   "file_extension": ".py",
   "mimetype": "text/x-python",
   "name": "python",
   "nbconvert_exporter": "python",
   "pygments_lexer": "ipython3",
   "version": "3.5.2"
  }
 },
 "nbformat": 4,
 "nbformat_minor": 2
}
