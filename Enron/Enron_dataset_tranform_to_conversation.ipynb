{
 "cells": [
  {
   "cell_type": "code",
   "execution_count": 1,
   "metadata": {
    "collapsed": true,
    "deletable": true,
    "editable": true
   },
   "outputs": [],
   "source": [
    "from dateutil.parser import parse # for parse email\n",
    "import nltk.data # for splitting to sentences\n",
    "import os\n",
    "import os.path # walk through directories\n",
    "import email.parser \n",
    "import re # for searching sentences\n",
    "import pickle\n",
    "\n",
    "from collections import defaultdict # for bucketing"
   ]
  },
  {
   "cell_type": "code",
   "execution_count": 2,
   "metadata": {
    "collapsed": true,
    "deletable": true,
    "editable": true
   },
   "outputs": [],
   "source": [
    "class Conversation(object):\n",
    "    def __init__(self, name1, name2):\n",
    "        self.name1 = name1\n",
    "        self.name2 = name2\n",
    "        self.msgs = []\n",
    "        \n",
    "    def __init__(self, name1, name2, msg, date):\n",
    "        self.name1 = name1\n",
    "        self.name2 = name2\n",
    "        self.msgs = [(msg,parse(date))]\n",
    "    \n",
    "    def get_names_set(self):\n",
    "        return set([self.name1, self.name2])\n",
    "    \n",
    "    def add_message(self, msg, date):\n",
    "        self.msgs.append((msg,parse(date)))\n",
    "        \n",
    "    def get_names(self):\n",
    "        return (self.name1, self.name2)\n",
    "\n",
    "    def show(self):\n",
    "        print (self.name1, self.name2 , self.msgs)\n",
    "        \n",
    "    def sort_messages(self):\n",
    "        self.msgs = sorted(self.msgs, key=lambda x: x[1])"
   ]
  },
  {
   "cell_type": "code",
   "execution_count": 3,
   "metadata": {
    "collapsed": false,
    "deletable": true,
    "editable": true
   },
   "outputs": [],
   "source": [
    "def are_in_list_conversation(conversation, name1, name2):\n",
    "    for x in range(0,len(conversation)):\n",
    "        if set([name1, name2]) == set([conversation[x].name1, conversation[x].name2]):\n",
    "            return x, True\n",
    "        \n",
    "    return -1, False"
   ]
  },
  {
   "cell_type": "code",
   "execution_count": 4,
   "metadata": {
    "collapsed": false,
    "deletable": true,
    "editable": true
   },
   "outputs": [],
   "source": [
    "conversation = pickle.load(open(\"../data/enron_conversation_whole.plk\", \"rb\"))"
   ]
  },
  {
   "cell_type": "code",
   "execution_count": 6,
   "metadata": {
    "collapsed": false,
    "deletable": true,
    "editable": true,
    "scrolled": true
   },
   "outputs": [
    {
     "data": {
      "text/plain": [
       "[(['Here is our forecast'],\n",
       "  datetime.datetime(2001, 5, 14, 16, 39, tzinfo=tzoffset('PDT', -25200))),\n",
       " (['Tim,\\n Matt sent you a email with his attempt to organize some of the cems and wscc \\ndata.',\n",
       "   'Tim H. expressed concern over the reliability of the wscc data.',\n",
       "   \"I \\ndon't know if we should scrap the wscc or just keep monitoring in case it \\nimproves.\",\n",
       "   'Let me know what you think.',\n",
       "   'Phillip'],\n",
       "  datetime.datetime(2000, 7, 6, 9, 38, tzinfo=tzoffset('PDT', -25200))),\n",
       " (['---------------------- Forwarded by Phillip K Allen/HOU/ECT on 05/19/2000 \\n10:46 AM ---------------------------\\n   \\n\\t\\n\\t\\n\\tFrom:  Jeffrey A Shankman                           05/18/2000 06:27 PM\\n\\t\\n\\nTo: Phillip K Allen/HOU/ECT@ECT, Keith Holst/HOU/ECT@ect, Mike \\nGrigsby/HOU/ECT@ECT\\ncc:  \\nSubject: Large Deal Alert\\n\\n\\n---------------------- Forwarded by Jeffrey A Shankman/HOU/ECT on 05/18/2000 \\n08:23 PM ---------------------------\\n\\n\\nBruce Sukaly@ENRON\\n05/18/2000 08:20 AM\\nTo: John Arnold/HOU/ECT@ECT, Mike Maggi/Corp/Enron@Enron, Jeffrey A \\nShankman/HOU/ECT@ECT\\ncc:  \\nSubject: Large Deal Alert\\n\\nTo make a long story short.',\n",
       "   'Williams is long 4000MW of tolling in SP15 (SoCal )  for 20 years (I know I \\ndid the deal)\\non Tuesday afternoon, Williams sold 1000 MW to Merrill Lynch for the \\nremaining life (now 18 years)\\n\\nMerrill is short fixed price gas at So Cal border  up to 250,000MMBtu a day \\nand long SP15 power (1000 MW) a day.',\n",
       "   'heat rate 10,500  SoCal Border plus $0.50.',\n",
       "   \"I'm not sure if MRL has just brokered this deal or is warehousing it.\",\n",
       "   'For what its worth........'],\n",
       "  datetime.datetime(2000, 5, 19, 3, 46, tzinfo=tzoffset('PDT', -25200))),\n",
       " (['Here is our forecast'],\n",
       "  datetime.datetime(2001, 5, 14, 6, 39, tzinfo=tzoffset('PDT', -25200))),\n",
       " (['Thanks for the website.'],\n",
       "  datetime.datetime(2001, 2, 13, 5, 45, tzinfo=tzoffset('PST', -28800))),\n",
       " (['Tim,\\n Matt sent you a email with his attempt to organize some of the cems and wscc \\ndata.',\n",
       "   'Tim H. expressed concern over the reliability of the wscc data.',\n",
       "   \"I \\ndon't know if we should scrap the wscc or just keep monitoring in case it \\nimproves.\",\n",
       "   'Let me know what you think.',\n",
       "   'Phillip'],\n",
       "  datetime.datetime(2000, 7, 6, 9, 38, tzinfo=tzoffset('PDT', -25200))),\n",
       " (['---------------------- Forwarded by Phillip K Allen/HOU/ECT on 05/19/2000 \\n10:46 AM ---------------------------\\n   \\n\\t\\n\\t\\n\\tFrom:  Jeffrey A Shankman                           05/18/2000 06:27 PM\\n\\t\\n\\nTo: Phillip K Allen/HOU/ECT@ECT, Keith Holst/HOU/ECT@ect, Mike \\nGrigsby/HOU/ECT@ECT\\ncc:  \\nSubject: Large Deal Alert\\n\\n\\n---------------------- Forwarded by Jeffrey A Shankman/HOU/ECT on 05/18/2000 \\n08:23 PM ---------------------------\\n\\n\\nBruce Sukaly@ENRON\\n05/18/2000 08:20 AM\\nTo: John Arnold/HOU/ECT@ECT, Mike Maggi/Corp/Enron@Enron, Jeffrey A \\nShankman/HOU/ECT@ECT\\ncc:  \\nSubject: Large Deal Alert\\n\\nTo make a long story short.',\n",
       "   'Williams is long 4000MW of tolling in SP15 (SoCal )  for 20 years (I know I \\ndid the deal)\\non Tuesday afternoon, Williams sold 1000 MW to Merrill Lynch for the \\nremaining life (now 18 years)\\n\\nMerrill is short fixed price gas at So Cal border  up to 250,000MMBtu a day \\nand long SP15 power (1000 MW) a day.',\n",
       "   'heat rate 10,500  SoCal Border plus $0.50.',\n",
       "   \"I'm not sure if MRL has just brokered this deal or is warehousing it.\",\n",
       "   'For what its worth........'],\n",
       "  datetime.datetime(2000, 5, 19, 3, 46, tzinfo=tzoffset('PDT', -25200))),\n",
       " (['Here is our forecast'],\n",
       "  datetime.datetime(2001, 5, 14, 6, 39, tzinfo=tzoffset('PDT', -25200))),\n",
       " (['---------------------- Forwarded by Tim Belden/HOU/ECT on 12/05/2000 05:44 AM \\n---------------------------\\n\\nKristian J Lande\\n\\n12/01/2000 03:54 PM\\n\\nTo: Christopher F Calger/PDX/ECT@ECT, Jake Thomas/HOU/ECT@ECT, Frank W \\nVickers/HOU/ECT@ECT, Elliot Mainzer/PDX/ECT@ECT, Michael McDonald/SF/ECT@ECT, \\nDavid Parquet/SF/ECT@ECT, Laird Dyer/SF/ECT@ECT, Jim Buerkle/PDX/ECT@ECT, Jim \\nGilbert/PDX/ECT@ECT, Terry W Donovan/HOU/ECT@ECT, Jeff G \\nSlaughter/ENRON_DEVELOPMENT@ENRON_DEVELOPMENT, Ed Clark/PDX/ECT@ECT, Saji \\nJohn/HOU/ECT@ECT, Michael Etringer/HOU/ECT@ECT\\ncc: Alan Comnes/PDX/ECT@ECT, Tim Belden/HOU/ECT@ECT, Robert \\nBadeer/HOU/ECT@ECT, Matt Motley/PDX/ECT@ECT, Mike Swerzbin/HOU/ECT@ECT, Todd \\nPerry/PDX/ECT@ECT, Jeffrey Oh/PDX/ECT@ECT \\nSubject: New Generation, Nov 30th'],\n",
       "  datetime.datetime(2000, 12, 4, 22, 42, tzinfo=tzoffset('PST', -28800))),\n",
       " (['Thanks for the website.'],\n",
       "  datetime.datetime(2001, 2, 13, 5, 45, tzinfo=tzoffset('PST', -28800))),\n",
       " (['---------------------- Forwarded by Tim Belden/HOU/ECT on 12/05/2000 05:44 AM \\n---------------------------\\n\\nKristian J Lande\\n\\n12/01/2000 03:54 PM\\n\\nTo: Christopher F Calger/PDX/ECT@ECT, Jake Thomas/HOU/ECT@ECT, Frank W \\nVickers/HOU/ECT@ECT, Elliot Mainzer/PDX/ECT@ECT, Michael McDonald/SF/ECT@ECT, \\nDavid Parquet/SF/ECT@ECT, Laird Dyer/SF/ECT@ECT, Jim Buerkle/PDX/ECT@ECT, Jim \\nGilbert/PDX/ECT@ECT, Terry W Donovan/HOU/ECT@ECT, Jeff G \\nSlaughter/ENRON_DEVELOPMENT@ENRON_DEVELOPMENT, Ed Clark/PDX/ECT@ECT, Saji \\nJohn/HOU/ECT@ECT, Michael Etringer/HOU/ECT@ECT\\ncc: Alan Comnes/PDX/ECT@ECT, Tim Belden/HOU/ECT@ECT, Robert \\nBadeer/HOU/ECT@ECT, Matt Motley/PDX/ECT@ECT, Mike Swerzbin/HOU/ECT@ECT, Todd \\nPerry/PDX/ECT@ECT, Jeffrey Oh/PDX/ECT@ECT \\nSubject: New Generation, Nov 30th'],\n",
       "  datetime.datetime(2000, 12, 4, 22, 42, tzinfo=tzoffset('PST', -28800))),\n",
       " (['---------------------- Forwarded by Phillip K Allen/HOU/ECT on 05/19/2000 \\n10:46 AM ---------------------------\\n   \\n\\t\\n\\t\\n\\tFrom:  Jeffrey A Shankman                           05/18/2000 06:27 PM\\n\\t\\n\\nTo: Phillip K Allen/HOU/ECT@ECT, Keith Holst/HOU/ECT@ect, Mike \\nGrigsby/HOU/ECT@ECT\\ncc:  \\nSubject: Large Deal Alert\\n\\n\\n---------------------- Forwarded by Jeffrey A Shankman/HOU/ECT on 05/18/2000 \\n08:23 PM ---------------------------\\n\\n\\nBruce Sukaly@ENRON\\n05/18/2000 08:20 AM\\nTo: John Arnold/HOU/ECT@ECT, Mike Maggi/Corp/Enron@Enron, Jeffrey A \\nShankman/HOU/ECT@ECT\\ncc:  \\nSubject: Large Deal Alert\\n\\nTo make a long story short.',\n",
       "   'Williams is long 4000MW of tolling in SP15 (SoCal )  for 20 years (I know I \\ndid the deal)\\non Tuesday afternoon, Williams sold 1000 MW to Merrill Lynch for the \\nremaining life (now 18 years)\\n\\nMerrill is short fixed price gas at So Cal border  up to 250,000MMBtu a day \\nand long SP15 power (1000 MW) a day.',\n",
       "   'heat rate 10,500  SoCal Border plus $0.50.',\n",
       "   \"I'm not sure if MRL has just brokered this deal or is warehousing it.\",\n",
       "   'For what its worth........'],\n",
       "  datetime.datetime(2000, 5, 19, 3, 46, tzinfo=tzoffset('PDT', -25200))),\n",
       " (['Here is our forecast'],\n",
       "  datetime.datetime(2001, 5, 14, 6, 39, tzinfo=tzoffset('PDT', -25200))),\n",
       " (['---------------------- Forwarded by Tim Belden/HOU/ECT on 12/05/2000 05:44 AM \\n---------------------------\\n\\nKristian J Lande\\n\\n12/01/2000 03:54 PM\\n\\nTo: Christopher F Calger/PDX/ECT@ECT, Jake Thomas/HOU/ECT@ECT, Frank W \\nVickers/HOU/ECT@ECT, Elliot Mainzer/PDX/ECT@ECT, Michael McDonald/SF/ECT@ECT, \\nDavid Parquet/SF/ECT@ECT, Laird Dyer/SF/ECT@ECT, Jim Buerkle/PDX/ECT@ECT, Jim \\nGilbert/PDX/ECT@ECT, Terry W Donovan/HOU/ECT@ECT, Jeff G \\nSlaughter/ENRON_DEVELOPMENT@ENRON_DEVELOPMENT, Ed Clark/PDX/ECT@ECT, Saji \\nJohn/HOU/ECT@ECT, Michael Etringer/HOU/ECT@ECT\\ncc: Alan Comnes/PDX/ECT@ECT, Tim Belden/HOU/ECT@ECT, Robert \\nBadeer/HOU/ECT@ECT, Matt Motley/PDX/ECT@ECT, Mike Swerzbin/HOU/ECT@ECT, Todd \\nPerry/PDX/ECT@ECT, Jeffrey Oh/PDX/ECT@ECT \\nSubject: New Generation, Nov 30th'],\n",
       "  datetime.datetime(2000, 12, 4, 22, 42, tzinfo=tzoffset('PST', -28800))),\n",
       " (['Tim,\\n Matt sent you a email with his attempt to organize some of the cems and wscc \\ndata.',\n",
       "   'Tim H. expressed concern over the reliability of the wscc data.',\n",
       "   \"I \\ndon't know if we should scrap the wscc or just keep monitoring in case it \\nimproves.\",\n",
       "   'Let me know what you think.',\n",
       "   'Phillip'],\n",
       "  datetime.datetime(2000, 7, 6, 9, 38, tzinfo=tzoffset('PDT', -25200))),\n",
       " (['---------------------- Forwarded by Phillip K Allen/HOU/ECT on 05/19/2000 \\n10:46 AM ---------------------------\\n   \\n\\t\\n\\t\\n\\tFrom:  Jeffrey A Shankman                           05/18/2000 06:27 PM\\n\\t\\n\\nTo: Phillip K Allen/HOU/ECT@ECT, Keith Holst/HOU/ECT@ect, Mike \\nGrigsby/HOU/ECT@ECT\\ncc:  \\nSubject: Large Deal Alert\\n\\n\\n---------------------- Forwarded by Jeffrey A Shankman/HOU/ECT on 05/18/2000 \\n08:23 PM ---------------------------\\n\\n\\nBruce Sukaly@ENRON\\n05/18/2000 08:20 AM\\nTo: John Arnold/HOU/ECT@ECT, Mike Maggi/Corp/Enron@Enron, Jeffrey A \\nShankman/HOU/ECT@ECT\\ncc:  \\nSubject: Large Deal Alert\\n\\nTo make a long story short.',\n",
       "   'Williams is long 4000MW of tolling in SP15 (SoCal )  for 20 years (I know I \\ndid the deal)\\non Tuesday afternoon, Williams sold 1000 MW to Merrill Lynch for the \\nremaining life (now 18 years)\\n\\nMerrill is short fixed price gas at So Cal border  up to 250,000MMBtu a day \\nand long SP15 power (1000 MW) a day.',\n",
       "   'heat rate 10,500  SoCal Border plus $0.50.',\n",
       "   \"I'm not sure if MRL has just brokered this deal or is warehousing it.\",\n",
       "   'For what its worth........'],\n",
       "  datetime.datetime(2000, 5, 19, 3, 46, tzinfo=tzoffset('PDT', -25200))),\n",
       " (['Here is our forecast'],\n",
       "  datetime.datetime(2001, 5, 14, 6, 39, tzinfo=tzoffset('PDT', -25200))),\n",
       " (['Thanks for the website.'],\n",
       "  datetime.datetime(2001, 2, 13, 5, 45, tzinfo=tzoffset('PST', -28800))),\n",
       " (['Here is our forecast'],\n",
       "  datetime.datetime(2001, 5, 14, 16, 39, tzinfo=tzoffset('PDT', -25200)))]"
      ]
     },
     "execution_count": 6,
     "metadata": {},
     "output_type": "execute_result"
    }
   ],
   "source": [
    "conversation[0].msgs"
   ]
  },
  {
   "cell_type": "code",
   "execution_count": 6,
   "metadata": {
    "collapsed": false,
    "deletable": true,
    "editable": true
   },
   "outputs": [],
   "source": [
    "pattern = r\"[a-zA-Z0-9 ]*(what|where|when|why|who|how)[a-zA-Z0-9.!? ]*\"\n",
    "pattern2 = r\"[a-zA-Z0-9.!? ]*\\?\"\n",
    "\n",
    "\n",
    "short_msg_or_question = []\n",
    "\n",
    "for _conversation in conversation:                              # conversation[X]\n",
    "    _conversation.sort_messages() \n",
    "    for msg_converstion in _conversation.msgs:                  # conversation[X].msgs[Y]\n",
    "        for msg in msg_converstion[0]: # tuple ([msgs], date)   # conversation[X].msgs[Y][0][Z]\n",
    "            if len(msg.split(\" \")) > 11:\n",
    "                continue\n",
    "            if re.match(pattern, msg, re.I) or re.match(pattern2, msg, re.I):\n",
    "                short_msg_or_question.append(msg)\n",
    "        "
   ]
  },
  {
   "cell_type": "code",
   "execution_count": 7,
   "metadata": {
    "collapsed": false,
    "deletable": true,
    "editable": true,
    "scrolled": false
   },
   "outputs": [
    {
     "data": {
      "text/plain": [
       "293663"
      ]
     },
     "execution_count": 7,
     "metadata": {},
     "output_type": "execute_result"
    }
   ],
   "source": [
    "len (short_msg_or_question)"
   ]
  },
  {
   "cell_type": "code",
   "execution_count": 8,
   "metadata": {
    "collapsed": false,
    "deletable": true,
    "editable": true,
    "scrolled": true
   },
   "outputs": [
    {
     "data": {
      "text/plain": [
       "56661"
      ]
     },
     "execution_count": 8,
     "metadata": {},
     "output_type": "execute_result"
    }
   ],
   "source": [
    "len(set(short_msg_or_question))"
   ]
  },
  {
   "cell_type": "code",
   "execution_count": 11,
   "metadata": {
    "collapsed": true
   },
   "outputs": [],
   "source": [
    "set_short_msg_or_question = list(set(short_msg_or_question))"
   ]
  },
  {
   "cell_type": "code",
   "execution_count": 12,
   "metadata": {
    "collapsed": false,
    "scrolled": true
   },
   "outputs": [
    {
     "data": {
      "text/plain": [
       "['5.?',\n",
       " 'Is that possible?',\n",
       " 'Your description of coffee is how you interpret SEX.',\n",
       " 'See it.?',\n",
       " 'How are the various structures of transmission organizations working?',\n",
       " 'Is Brent our man?',\n",
       " 'Look at how you glorify God.',\n",
       " 'Do you know your plans yet?',\n",
       " 'Can we clean this language up a little?',\n",
       " 'Did you respond to the Haas address?']"
      ]
     },
     "execution_count": 12,
     "metadata": {},
     "output_type": "execute_result"
    }
   ],
   "source": [
    "set_short_msg_or_question[:10]"
   ]
  },
  {
   "cell_type": "code",
   "execution_count": 17,
   "metadata": {
    "collapsed": false
   },
   "outputs": [],
   "source": [
    "with open(\"../data/enron_sentences.txt\" , mode=\"w+\") as f:\n",
    "    for line in set_short_msg_or_question:\n",
    "        f.write(line.strip() + \"\\n\")"
   ]
  },
  {
   "cell_type": "code",
   "execution_count": 57,
   "metadata": {
    "collapsed": false,
    "deletable": true,
    "editable": true
   },
   "outputs": [],
   "source": [
    "tuples = []\n",
    "x = 0\n",
    "pattern3 = r\"^[0-9a-zA-Z.,]*$\"\n",
    "\n",
    "short_msg_or_question = list(set(short_msg_or_question))\n",
    "\n",
    "while x < (len(short_msg_or_question) - 1):\n",
    "    if re.match(pattern, short_msg_or_question[x], re.I) or re.match(pattern2, short_msg_or_question[x], re.I):\n",
    "        y = x + 1\n",
    "        while re.match(pattern3, short_msg_or_question[y], re.I):\n",
    "            if y >= (len(short_msg_or_question) - 1):\n",
    "                break\n",
    "            y += 1\n",
    "        tuples.append([short_msg_or_question[x], short_msg_or_question[y]])\n",
    "        x = y\n",
    "    x += 1"
   ]
  },
  {
   "cell_type": "code",
   "execution_count": 58,
   "metadata": {
    "collapsed": false,
    "deletable": true,
    "editable": true
   },
   "outputs": [
    {
     "data": {
      "text/plain": [
       "51978"
      ]
     },
     "execution_count": 58,
     "metadata": {},
     "output_type": "execute_result"
    }
   ],
   "source": [
    "len(tuples)"
   ]
  },
  {
   "cell_type": "code",
   "execution_count": 56,
   "metadata": {
    "collapsed": false,
    "deletable": true,
    "editable": true,
    "scrolled": true
   },
   "outputs": [
    {
     "data": {
      "text/plain": [
       "[['Did I miss you sometime this weekend?', 'Whenever.'],\n",
       " ['Q?contest with golfing supersta=\\nr Tiger Woods!', 'Chow.'],\n",
       " [\"Hope this gives you an idea on where we're at.\", 'Whatever.'],\n",
       " ['Whats up?', 'WHY.'],\n",
       " ['What day is here birthday?', 'Howdy.'],\n",
       " ['High Egos?', 'Why'],\n",
       " ['Let me see where those guys are at.', 'However.'],\n",
       " [\"What is the financial extent of Enron's claim?\", 'Wholesale.'],\n",
       " ['Vacation???', 'where.'],\n",
       " [\"However, it's going a lot better this time.\", 'whatever....']]"
      ]
     },
     "execution_count": 56,
     "metadata": {},
     "output_type": "execute_result"
    }
   ],
   "source": [
    "tuples[:10]"
   ]
  },
  {
   "cell_type": "code",
   "execution_count": 188,
   "metadata": {
    "collapsed": false,
    "deletable": true,
    "editable": true
   },
   "outputs": [
    {
     "data": {
      "text/plain": [
       "{'?',\n",
       " 'Are you open to more discussions?',\n",
       " 'Can you help?',\n",
       " 'Can you take a look and get back to me with the bullish case?',\n",
       " 'Check 1406  Walmart    Description and unit?',\n",
       " 'Check 1410  Crumps     Detail description and unit?',\n",
       " 'Check 1411  Lucy      What is this?',\n",
       " 'Check 1415  Papes      Detail description and units?',\n",
       " 'Check 1438    Walmart?',\n",
       " 'Description and unit?',\n",
       " 'Do you have additional comments or changes?',\n",
       " 'Do you have any comments?',\n",
       " 'Flying somewhere takes too much time.',\n",
       " 'For what its worth........',\n",
       " 'Have you run it by Phillip Allen?',\n",
       " 'How is progress on creating the \\nspreadsheets.',\n",
       " 'I base this belief in large part on what I heard at a luncheon I attended yesterday afternoon at which the keynote speaker was FERC Chairman Curt Hebert.',\n",
       " 'Is there the potential for a surprise announcement of some sort of fixed price gas or power cap once the open meeting finally happens?',\n",
       " 'Let me know what you think.',\n",
       " 'My suggestion for where to go is Austin.',\n",
       " 'Pay well ?',\n",
       " 'What do you think about being open until noon on Saturday.',\n",
       " 'What do you think?',\n",
       " 'What is going on?',\n",
       " 'When you open the file, go to the \"Checkbook\" tab and look at the yellow \\nhighlighted items.',\n",
       " 'resumes of whom?'}"
      ]
     },
     "execution_count": 188,
     "metadata": {},
     "output_type": "execute_result"
    }
   ],
   "source": [
    "set(questions[:100])"
   ]
  },
  {
   "cell_type": "code",
   "execution_count": 121,
   "metadata": {
    "collapsed": false,
    "deletable": true,
    "editable": true
   },
   "outputs": [],
   "source": [
    "def get_num_words(x):\n",
    "    return len(nltk.word_tokenize(x))\n",
    "\n",
    "bucketed_sentences = partition(set(questions), lambda x: 0 if get_num_words(x) < 5 \n",
    "                                  else 1 if get_num_words(x) < 10 \n",
    "                                  else 2 if get_num_words(x) < 20 \n",
    "                                  else 3 if get_num_words(x) < 30\n",
    "                                  else 4)"
   ]
  },
  {
   "cell_type": "code",
   "execution_count": 126,
   "metadata": {
    "collapsed": true,
    "deletable": true,
    "editable": true
   },
   "outputs": [
    {
     "data": {
      "text/plain": [
       "defaultdict(list,\n",
       "            {0: ['raincheck?',\n",
       "              'Anymore details?',\n",
       "              'How about 3:30',\n",
       "              'resumes of whom?',\n",
       "              'How are you ?'],\n",
       "             1: ['Can you fax me the rent roll?',\n",
       "              'Why are his requests coming to me?',\n",
       "              'Any word on the release agreement?',\n",
       "              '8500?????',\n",
       "              'How is your racing going?',\n",
       "              'What did mary write?',\n",
       "              'is this still an issue?',\n",
       "              'can you fill it in yourself?',\n",
       "              'Are we going to inspect tomorrow?',\n",
       "              'Why is the body shop being closed?',\n",
       "              'What are my choices for dates?',\n",
       "              'Have you heard anything from Bank One today?',\n",
       "              'Can you send me a schedule of meetings?',\n",
       "              'What is GIS info?',\n",
       "              'What are your skills?',\n",
       "              'here is the file I showed you.'],\n",
       "             2: ['What are the specifics of those bonds are they insured what are they rated?',\n",
       "              'Let me know when you get the quotes from Pauline.',\n",
       "              'is your voice healed or are you going to use a real time messenger?',\n",
       "              'How about Tuesday at 11:15 in front of the building?',\n",
       "              'can you build something to look at historical prices from where we saved \\ncurves each night.',\n",
       "              'When can we reschedule the meeting regarding phantom stock deferral.',\n",
       "              'why is aeco basis so low on the list?',\n",
       "              'Can you approve this invoice or show me how to get into this system?',\n",
       "              'How am I to send them the money for the silent second?',\n",
       "              'Are there behind closed doors discussions being held prior to the meeting?',\n",
       "              'Would we have interest in any storage capacity in the proposed facility?'],\n",
       "             3: [\"I would like more detail about how much margin my open positions require and how the muni's are treated with regard to margin.\"],\n",
       "             4: ['Is AMF willing to put up the additional earnest money and acknowledge June 29th as the day they were supposed to close  or do they believe they are honoring the contract by closing on July 18th?']})"
      ]
     },
     "execution_count": 126,
     "metadata": {},
     "output_type": "execute_result"
    }
   ],
   "source": [
    "bucketed_sentences"
   ]
  },
  {
   "cell_type": "code",
   "execution_count": 143,
   "metadata": {
    "collapsed": false,
    "deletable": true,
    "editable": true,
    "scrolled": true
   },
   "outputs": [
    {
     "name": "stdout",
     "output_type": "stream",
     "text": [
      "5\n",
      "16\n",
      "11\n",
      "1\n",
      "1\n"
     ]
    }
   ],
   "source": [
    "buckets = []\n",
    "for x in range(len(bucketed_sentences)):\n",
    "    print(len(bucketed_sentences[x]))\n",
    "    buckets.append(len(bucketed_sentences[x]))"
   ]
  },
  {
   "cell_type": "raw",
   "metadata": {
    "deletable": true,
    "editable": true
   },
   "source": [
    "6 625 685 sentences in messages -> 503 852 classified as questions\n",
    "But a lot of messages are just forward messager."
   ]
  },
  {
   "cell_type": "code",
   "execution_count": 184,
   "metadata": {
    "collapsed": true,
    "deletable": true,
    "editable": true
   },
   "outputs": [],
   "source": [
    "pickle.dump(questions,open(\"./data/enron_unique_questions.plk\", \"wb\"))"
   ]
  },
  {
   "cell_type": "code",
   "execution_count": 193,
   "metadata": {
    "collapsed": false,
    "deletable": true,
    "editable": true,
    "scrolled": false
   },
   "outputs": [
    {
     "data": {
      "image/png": "[encoded data removed]",
      "text/plain": [
       "<matplotlib.figure.Figure at 0x108fca9b0>"
      ]
     },
     "metadata": {},
     "output_type": "display_data"
    }
   ],
   "source": [
    "import matplotlib.pyplot as plt\n",
    "\n",
    "histogram = [get_num_words(x) for x in set(questions)]\n",
    "# more than 40 words will be deal like OTHER\n",
    "histogram = [x if x < 40 else 40 for x in histogram]\n",
    "\n",
    "plt.hist(histogram, bins=range(0, 40, 1))\n",
    "plt.title(\"Unique questions in Enron\")\n",
    "plt.xlabel(\"# of words\")\n",
    "plt.ylabel(\"# of examples\")\n",
    "\n",
    "plt.show()"
   ]
  },
  {
   "cell_type": "code",
   "execution_count": 195,
   "metadata": {
    "collapsed": false,
    "deletable": true,
    "editable": true
   },
   "outputs": [
    {
     "data": {
      "image/png": "[encoded data removed]",
      "text/plain": [
       "<matplotlib.figure.Figure at 0x1095f7550>"
      ]
     },
     "metadata": {},
     "output_type": "display_data"
    }
   ],
   "source": [
    "import matplotlib.pyplot as plt\n",
    "\n",
    "histogram2 = [get_num_words(x) for x in questions]\n",
    "histogram2 = [x if x < 40 else 40 for x in histogram2]\n",
    "\n",
    "plt.hist(histogram2, bins=range(0, 40, 1))\n",
    "plt.title(\"Questions in Enron\")\n",
    "plt.xlabel(\"# of words\")\n",
    "plt.ylabel(\"# of examples\")\n",
    "\n",
    "plt.show()"
   ]
  },
  {
   "cell_type": "code",
   "execution_count": null,
   "metadata": {
    "collapsed": true,
    "deletable": true,
    "editable": true
   },
   "outputs": [],
   "source": []
  }
 ],
 "metadata": {
  "kernelspec": {
   "display_name": "Python 3",
   "language": "python",
   "name": "python3"
  },
  "language_info": {
   "codemirror_mode": {
    "name": "ipython",
    "version": 3
   },
   "file_extension": ".py",
   "mimetype": "text/x-python",
   "name": "python",
   "nbconvert_exporter": "python",
   "pygments_lexer": "ipython3",
   "version": "3.5.2"
  }
 },
 "nbformat": 4,
 "nbformat_minor": 2
}
